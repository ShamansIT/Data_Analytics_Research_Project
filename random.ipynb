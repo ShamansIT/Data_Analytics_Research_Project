{
 "cells": [
  {
   "cell_type": "markdown",
   "metadata": {},
   "source": [
    "# Randoms numbers\n",
    "***"
   ]
  },
  {
   "cell_type": "markdown",
   "metadata": {},
   "source": [
    "## Prequisites\n",
    "https://numpy.org/doc/stable/reference/random/index.html"
   ]
  },
  {
   "cell_type": "code",
   "execution_count": 241,
   "metadata": {},
   "outputs": [],
   "source": [
    "# Numerical arrays and random number\n",
    "import numpy as np\n",
    "\n",
    "#Plot\n",
    "import matplotlib.pyplot as plt"
   ]
  },
  {
   "cell_type": "markdown",
   "metadata": {},
   "source": [
    "# Generate random integers\n",
    "***"
   ]
  },
  {
   "cell_type": "code",
   "execution_count": 242,
   "metadata": {},
   "outputs": [],
   "source": [
    "rng = np.random.default_rng()"
   ]
  },
  {
   "cell_type": "code",
   "execution_count": 243,
   "metadata": {},
   "outputs": [
    {
     "data": {
      "text/plain": [
       "0.36329281089858323"
      ]
     },
     "execution_count": 243,
     "metadata": {},
     "output_type": "execute_result"
    }
   ],
   "source": [
    "# Generate one random float uniformly distributed over the range [0, 1)\n",
    "rng.random()  "
   ]
  },
  {
   "cell_type": "code",
   "execution_count": 244,
   "metadata": {},
   "outputs": [
    {
     "data": {
      "text/plain": [
       "array([-0.20161204,  0.69522186,  1.18879303,  0.93294416, -0.63512216,\n",
       "        1.30843302, -0.17682863,  0.36670368,  1.20349249, -0.27223339])"
      ]
     },
     "execution_count": 244,
     "metadata": {},
     "output_type": "execute_result"
    }
   ],
   "source": [
    "# Generate an array of 10 numbers according to a unit Gaussian distribution.\n",
    "rng.standard_normal(10)  \n"
   ]
  },
  {
   "cell_type": "code",
   "execution_count": 245,
   "metadata": {},
   "outputs": [
    {
     "data": {
      "text/plain": [
       "array([[4, 1, 2, 5, 6, 9, 7, 1, 0, 9],\n",
       "       [6, 0, 8, 6, 7, 6, 7, 0, 9, 8]], dtype=int64)"
      ]
     },
     "execution_count": 245,
     "metadata": {},
     "output_type": "execute_result"
    }
   ],
   "source": [
    "# Generate an array of 5 integers uniformly over the range [0, 10).\n",
    "rng.integers(low=0, high=10, size=(2, 10))  "
   ]
  },
  {
   "cell_type": "code",
   "execution_count": 246,
   "metadata": {},
   "outputs": [
    {
     "data": {
      "text/plain": [
       "array([10,  5,  3, ...,  5,  7,  3], dtype=int64)"
      ]
     },
     "execution_count": 246,
     "metadata": {},
     "output_type": "execute_result"
    }
   ],
   "source": [
    "# Generate 10,000 integers over the range [1, 10]\n",
    "x = rng.integers(low=1, high=10, size=10000, endpoint=True)\n",
    "\n",
    "#Show x\n",
    "x\n"
   ]
  },
  {
   "cell_type": "code",
   "execution_count": 247,
   "metadata": {},
   "outputs": [
    {
     "data": {
      "text/plain": [
       "(array([ 1,  2,  3,  4,  5,  6,  7,  8,  9, 10], dtype=int64),\n",
       " array([ 996,  976, 1012,  987,  991,  966, 1019, 1008,  984, 1061],\n",
       "       dtype=int64))"
      ]
     },
     "execution_count": 247,
     "metadata": {},
     "output_type": "execute_result"
    }
   ],
   "source": [
    "# Get the counts\n",
    "values, counts = np.unique(x, return_counts=True) \n",
    "\n",
    "# Show\n",
    "values, counts"
   ]
  },
  {
   "cell_type": "code",
   "execution_count": 248,
   "metadata": {},
   "outputs": [
    {
     "data": {
      "text/plain": [
       "<BarContainer object of 10 artists>"
      ]
     },
     "execution_count": 248,
     "metadata": {},
     "output_type": "execute_result"
    },
    {
     "data": {
      "image/png": "[encoded data removed]",
      "text/plain": [
       "<Figure size 640x480 with 1 Axes>"
      ]
     },
     "metadata": {},
     "output_type": "display_data"
    }
   ],
   "source": [
    "#Plot the barchars\n",
    "\n",
    "plt.bar(values,counts)"
   ]
  },
  {
   "cell_type": "markdown",
   "metadata": {},
   "source": [
    "## Unifirm Distribution\n",
    "***"
   ]
  },
  {
   "cell_type": "code",
   "execution_count": 249,
   "metadata": {},
   "outputs": [
    {
     "data": {
      "text/plain": [
       "array([1.25876976, 6.62831084, 8.56677456, 4.77582065, 9.94917265,\n",
       "       8.05955774, 2.6198243 , 9.19660601, 9.6260313 , 3.51856212,\n",
       "       0.8904977 , 4.8671242 , 4.0672143 , 3.16860918, 2.51865656,\n",
       "       6.06042448, 2.69677145, 0.32619974, 2.0381825 , 3.12015794,\n",
       "       7.88769782, 1.87864535, 4.04226382, 8.02108074, 1.89115727,\n",
       "       2.77604389, 2.80700057, 8.9526732 , 4.39547899, 2.35670917,\n",
       "       0.0477962 , 0.34627404, 2.6970068 , 1.29007332, 8.53305187,\n",
       "       0.08314348, 9.2098195 , 9.80474295, 9.76901589, 0.35768837,\n",
       "       5.98086581, 7.20654752, 8.0024611 , 6.18449935, 3.55407781,\n",
       "       5.04803584, 5.56536502, 6.04124258, 7.73398018, 9.97158877,\n",
       "       5.08359848, 0.39226986, 4.70607181, 7.53206664, 4.65934763,\n",
       "       1.02085651, 5.11576468, 9.93105167, 2.82942034, 7.12926602,\n",
       "       1.22585481, 2.69622843, 2.47581009, 0.74511045, 5.77835916,\n",
       "       1.51895296, 4.11236999, 0.37798752, 7.02264822, 0.06731587,\n",
       "       6.87943146, 0.78985094, 1.01826115, 9.42514261, 4.28794724,\n",
       "       7.05080049, 8.88347367, 4.18481905, 3.35360588, 4.93019796,\n",
       "       5.83068927, 0.51594916, 3.72391749, 1.12519052, 4.23747957,\n",
       "       5.96923759, 2.67286176, 9.45012327, 3.89215668, 1.75076023,\n",
       "       9.35119674, 0.04587724, 0.57024284, 8.44446725, 8.08933112,\n",
       "       4.44568728, 9.15747038, 0.16938273, 2.0598032 , 9.03011377])"
      ]
     },
     "execution_count": 249,
     "metadata": {},
     "output_type": "execute_result"
    }
   ],
   "source": [
    "# Generate 100 floats over the range [0, 10]\n",
    "x = rng.uniform(low=0.0, high=10.0, size=100)\n",
    "\n",
    "# Show\n",
    "x"
   ]
  },
  {
   "cell_type": "code",
   "execution_count": 250,
   "metadata": {},
   "outputs": [
    {
     "data": {
      "text/plain": [
       "(array([ 0. ,  0.1,  0.2,  0.3,  0.4,  0.5,  0.6,  0.7,  0.8,  0.9,  1. ,\n",
       "         1.1,  1.2,  1.3,  1.5,  1.8,  1.9,  2. ,  2.1,  2.4,  2.5,  2.6,\n",
       "         2.7,  2.8,  3.1,  3.2,  3.4,  3.5,  3.6,  3.7,  3.9,  4. ,  4.1,\n",
       "         4.2,  4.3,  4.4,  4.7,  4.8,  4.9,  5. ,  5.1,  5.6,  5.8,  6. ,\n",
       "         6.1,  6.2,  6.6,  6.9,  7. ,  7.1,  7.2,  7.5,  7.7,  7.9,  8. ,\n",
       "         8.1,  8.4,  8.5,  8.6,  8.9,  9. ,  9.2,  9.4,  9.5,  9.6,  9.8,\n",
       "         9.9, 10. ]),\n",
       " array([2, 2, 1, 2, 3, 1, 1, 1, 1, 1, 2, 1, 1, 2, 1, 1, 2, 1, 1, 1, 2, 1,\n",
       "        4, 3, 1, 1, 1, 1, 1, 1, 1, 1, 2, 2, 1, 2, 2, 1, 2, 1, 2, 1, 2, 3,\n",
       "        1, 1, 1, 1, 1, 2, 1, 1, 1, 1, 2, 2, 1, 1, 1, 1, 2, 3, 2, 1, 1, 2,\n",
       "        2, 1], dtype=int64),\n",
       " 68,\n",
       " 68)"
      ]
     },
     "execution_count": 250,
     "metadata": {},
     "output_type": "execute_result"
    }
   ],
   "source": [
    "# Round values in x\n",
    "x_rounds = np.round(x, decimals=1)\n",
    "\n",
    "#Get te counts\n",
    "values, counts = np.unique(x_rounds, return_counts=True)\n",
    "\n",
    "#Show\n",
    "values, counts, values.size, counts.size"
   ]
  },
  {
   "cell_type": "code",
   "execution_count": 251,
   "metadata": {},
   "outputs": [
    {
     "data": {
      "text/plain": [
       "<BarContainer object of 68 artists>"
      ]
     },
     "execution_count": 251,
     "metadata": {},
     "output_type": "execute_result"
    },
    {
     "data": {
      "image/png": "[encoded data removed]",
      "text/plain": [
       "<Figure size 640x480 with 1 Axes>"
      ]
     },
     "metadata": {},
     "output_type": "display_data"
    }
   ],
   "source": [
    "#Plot the barchars\n",
    "\n",
    "plt.bar(values,counts, edgecolor = 'black')"
   ]
  },
  {
   "cell_type": "code",
   "execution_count": null,
   "metadata": {},
   "outputs": [],
   "source": []
  },
  {
   "cell_type": "code",
   "execution_count": null,
   "metadata": {},
   "outputs": [],
   "source": []
  },
  {
   "cell_type": "markdown",
   "metadata": {},
   "source": [
    "***\n",
    "#### End"
   ]
  }
 ],
 "metadata": {
  "kernelspec": {
   "display_name": "TF",
   "language": "python",
   "name": "python3"
  },
  "language_info": {
   "codemirror_mode": {
    "name": "ipython",
    "version": 3
   },
   "file_extension": ".py",
   "mimetype": "text/x-python",
   "name": "python",
   "nbconvert_exporter": "python",
   "pygments_lexer": "ipython3",
   "version": "3.11.5"
  }
 },
 "nbformat": 4,
 "nbformat_minor": 2
}
